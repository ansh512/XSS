{
 "cells": [
  {
   "cell_type": "code",
   "execution_count": 1,
   "metadata": {},
   "outputs": [
    {
     "name": "stdout",
     "output_type": "stream",
     "text": [
      "Requirement already satisfied: matplotlib in c:\\users\\anubh\\onedrive\\desktop\\project\\xss\\venv\\lib\\site-packages (3.8.2)"
     ]
    },
    {
     "name": "stderr",
     "output_type": "stream",
     "text": [
      "\n",
      "[notice] A new release of pip is available: 23.2.1 -> 23.3.2\n",
      "[notice] To update, run: python.exe -m pip install --upgrade pip\n"
     ]
    },
    {
     "name": "stdout",
     "output_type": "stream",
     "text": [
      "\n",
      "Requirement already satisfied: contourpy>=1.0.1 in c:\\users\\anubh\\onedrive\\desktop\\project\\xss\\venv\\lib\\site-packages (from matplotlib) (1.2.0)\n",
      "Requirement already satisfied: cycler>=0.10 in c:\\users\\anubh\\onedrive\\desktop\\project\\xss\\venv\\lib\\site-packages (from matplotlib) (0.12.1)\n",
      "Requirement already satisfied: fonttools>=4.22.0 in c:\\users\\anubh\\onedrive\\desktop\\project\\xss\\venv\\lib\\site-packages (from matplotlib) (4.46.0)\n",
      "Requirement already satisfied: kiwisolver>=1.3.1 in c:\\users\\anubh\\onedrive\\desktop\\project\\xss\\venv\\lib\\site-packages (from matplotlib) (1.4.5)\n",
      "Requirement already satisfied: numpy<2,>=1.21 in c:\\users\\anubh\\onedrive\\desktop\\project\\xss\\venv\\lib\\site-packages (from matplotlib) (1.26.2)\n",
      "Requirement already satisfied: packaging>=20.0 in c:\\users\\anubh\\onedrive\\desktop\\project\\xss\\venv\\lib\\site-packages (from matplotlib) (23.2)\n",
      "Requirement already satisfied: pillow>=8 in c:\\users\\anubh\\onedrive\\desktop\\project\\xss\\venv\\lib\\site-packages (from matplotlib) (10.1.0)\n",
      "Requirement already satisfied: pyparsing>=2.3.1 in c:\\users\\anubh\\onedrive\\desktop\\project\\xss\\venv\\lib\\site-packages (from matplotlib) (3.1.1)\n",
      "Requirement already satisfied: python-dateutil>=2.7 in c:\\users\\anubh\\onedrive\\desktop\\project\\xss\\venv\\lib\\site-packages (from matplotlib) (2.8.2)\n",
      "Requirement already satisfied: six>=1.5 in c:\\users\\anubh\\onedrive\\desktop\\project\\xss\\venv\\lib\\site-packages (from python-dateutil>=2.7->matplotlib) (1.16.0)\n"
     ]
    }
   ],
   "source": [
    "! pip install matplotlib"
   ]
  },
  {
   "cell_type": "code",
   "execution_count": 2,
   "metadata": {},
   "outputs": [],
   "source": [
    "import pandas as pd\n",
    "import re"
   ]
  },
  {
   "cell_type": "code",
   "execution_count": 3,
   "metadata": {},
   "outputs": [],
   "source": [
    "df1 = pd.read_csv(\"XSS.csv\")\n",
    "df2 = pd.read_csv(\"XSS_begin.csv\")\n",
    "df = pd.concat([df1, df2], axis=0, ignore_index=True)\n",
    "df.to_csv('XSS_Dataset.csv', index=False)"
   ]
  },
  {
   "cell_type": "code",
   "execution_count": 5,
   "metadata": {},
   "outputs": [
    {
     "data": {
      "text/plain": [
       "(7772, 4)"
      ]
     },
     "execution_count": 5,
     "metadata": {},
     "output_type": "execute_result"
    }
   ],
   "source": [
    "df2.shape"
   ]
  },
  {
   "cell_type": "code",
   "execution_count": 3,
   "metadata": {},
   "outputs": [],
   "source": [
    "df = df.sample(frac=1).reset_index(drop=True)"
   ]
  },
  {
   "cell_type": "code",
   "execution_count": 4,
   "metadata": {},
   "outputs": [
    {
     "data": {
      "text/html": [
       "<div>\n",
       "<style scoped>\n",
       "    .dataframe tbody tr th:only-of-type {\n",
       "        vertical-align: middle;\n",
       "    }\n",
       "\n",
       "    .dataframe tbody tr th {\n",
       "        vertical-align: top;\n",
       "    }\n",
       "\n",
       "    .dataframe thead th {\n",
       "        text-align: right;\n",
       "    }\n",
       "</style>\n",
       "<table border=\"1\" class=\"dataframe\">\n",
       "  <thead>\n",
       "    <tr style=\"text-align: right;\">\n",
       "      <th></th>\n",
       "      <th>id</th>\n",
       "      <th>script</th>\n",
       "      <th>label</th>\n",
       "      <th>url</th>\n",
       "    </tr>\n",
       "  </thead>\n",
       "  <tbody>\n",
       "    <tr>\n",
       "      <th>0</th>\n",
       "      <td>305</td>\n",
       "      <td>&lt;script type=\"text/javascript\"&gt;\\r\\n           ...</td>\n",
       "      <td>1</td>\n",
       "      <td>https://www.Kompas.com</td>\n",
       "    </tr>\n",
       "    <tr>\n",
       "      <th>1</th>\n",
       "      <td>464</td>\n",
       "      <td>&lt;script&gt;\\n    (function(d) {\\n        var boun...</td>\n",
       "      <td>1</td>\n",
       "      <td>https://www.Mashable.com</td>\n",
       "    </tr>\n",
       "    <tr>\n",
       "      <th>2</th>\n",
       "      <td>750</td>\n",
       "      <td>&lt;script defer=\"\" src=\"data:text/javascript;bas...</td>\n",
       "      <td>0</td>\n",
       "      <td>http://www.video2mp3.net</td>\n",
       "    </tr>\n",
       "    <tr>\n",
       "      <th>3</th>\n",
       "      <td>181</td>\n",
       "      <td>&lt;script&gt;\\r\\n        var $j = jQuery.noConflict...</td>\n",
       "      <td>0</td>\n",
       "      <td>http://www.kicker.de</td>\n",
       "    </tr>\n",
       "    <tr>\n",
       "      <th>4</th>\n",
       "      <td>228</td>\n",
       "      <td>&lt;script id=\"immopro-search-vendeur-js\" src=\"ht...</td>\n",
       "      <td>0</td>\n",
       "      <td>http://www.immobilier-pro-maroc.com</td>\n",
       "    </tr>\n",
       "  </tbody>\n",
       "</table>\n",
       "</div>"
      ],
      "text/plain": [
       "    id                                             script  label  \\\n",
       "0  305  <script type=\"text/javascript\">\\r\\n           ...      1   \n",
       "1  464  <script>\\n    (function(d) {\\n        var boun...      1   \n",
       "2  750  <script defer=\"\" src=\"data:text/javascript;bas...      0   \n",
       "3  181  <script>\\r\\n        var $j = jQuery.noConflict...      0   \n",
       "4  228  <script id=\"immopro-search-vendeur-js\" src=\"ht...      0   \n",
       "\n",
       "                                   url  \n",
       "0               https://www.Kompas.com  \n",
       "1             https://www.Mashable.com  \n",
       "2             http://www.video2mp3.net  \n",
       "3                 http://www.kicker.de  \n",
       "4  http://www.immobilier-pro-maroc.com  "
      ]
     },
     "execution_count": 4,
     "metadata": {},
     "output_type": "execute_result"
    }
   ],
   "source": [
    "df.head()"
   ]
  },
  {
   "cell_type": "code",
   "execution_count": 70,
   "metadata": {},
   "outputs": [],
   "source": [
    "df = df.drop(columns=['id'])"
   ]
  },
  {
   "cell_type": "code",
   "execution_count": 71,
   "metadata": {},
   "outputs": [],
   "source": [
    "df = df.dropna(subset=['script'])"
   ]
  },
  {
   "cell_type": "code",
   "execution_count": 72,
   "metadata": {},
   "outputs": [
    {
     "data": {
      "text/plain": [
       "(17515, 3)"
      ]
     },
     "execution_count": 72,
     "metadata": {},
     "output_type": "execute_result"
    }
   ],
   "source": [
    "df.shape"
   ]
  },
  {
   "cell_type": "code",
   "execution_count": 73,
   "metadata": {},
   "outputs": [],
   "source": [
    "def count_characters(input_text):\n",
    "    text = re.sub(r'<script>.*?</script>', '', input_text)\n",
    "    \n",
    "    character_count = len(text)\n",
    "    \n",
    "    return character_count"
   ]
  },
  {
   "cell_type": "code",
   "execution_count": 74,
   "metadata": {},
   "outputs": [],
   "source": [
    "def count_lines(input_text):\n",
    "    text = re.sub(r'<script>.*?</script>', '', input_text)\n",
    "    \n",
    "    lines = text.split('\\n')\n",
    "    return len(lines)"
   ]
  },
  {
   "cell_type": "code",
   "execution_count": 75,
   "metadata": {},
   "outputs": [],
   "source": [
    "\n",
    "def avg_chars_per_line(input_text):\n",
    "    text = re.sub(r'<script>.*?</script>', '', input_text)\n",
    "    lines = text.split('\\n')\n",
    "    \n",
    "    non_empty_lines = [line for line in lines if line.strip()]\n",
    "\n",
    "    total_chars = sum(len(line) for line in non_empty_lines)\n",
    "    total_lines = len(non_empty_lines)\n",
    "\n",
    "    average_chars = total_chars / total_lines if total_lines > 0 else 0\n",
    "    \n",
    "    return average_chars"
   ]
  },
  {
   "cell_type": "code",
   "execution_count": 76,
   "metadata": {},
   "outputs": [],
   "source": [
    "def count_words(input_text):\n",
    "    text = re.sub(r'<script>.*?</script>', '', input_text)\n",
    "    words = text.split()\n",
    "    word_count = len(words)\n",
    "    return word_count"
   ]
  },
  {
   "cell_type": "code",
   "execution_count": 77,
   "metadata": {},
   "outputs": [],
   "source": [
    "def perc_count_white_spaces(char_count, input_text):\n",
    "    text = re.sub(r'<script>.*?</script>', '', input_text)\n",
    "    if char_count == 0:\n",
    "        return 0\n",
    "    white_space_count = sum(1 for char in text if char.isspace())\n",
    "    percentage_white_spaces = (white_space_count / char_count) * 100\n",
    "    return percentage_white_spaces"
   ]
  },
  {
   "cell_type": "code",
   "execution_count": 78,
   "metadata": {},
   "outputs": [],
   "source": [
    "def count_commas(input_text):\n",
    "    text = re.sub(r'<script>.*?</script>', '', input_text)\n",
    "    comma_count = text.count(',')\n",
    "    return comma_count"
   ]
  },
  {
   "cell_type": "code",
   "execution_count": 79,
   "metadata": {},
   "outputs": [],
   "source": [
    "def avg_commas_per_line(comma_count,line_count):\n",
    "    return (comma_count/line_count)"
   ]
  },
  {
   "cell_type": "code",
   "execution_count": 80,
   "metadata": {},
   "outputs": [],
   "source": [
    "def count_methods(input_text):\n",
    "     text = re.sub(r'<script>.*?</script>', '', input_text)\n",
    "     regex_pattern = r'(function\\s+[\\w$]+\\s*\\([^)]*\\)|[\\w$]+\\s*:\\s*function\\s*\\([^)]*\\)|\\w+\\s*\\(.*\\)\\s*\\{)'\n",
    "\n",
    "     method_matches = re.findall(regex_pattern, text)\n",
    "\n",
    "     number_of_methods = len(method_matches)\n",
    "\n",
    "     return number_of_methods"
   ]
  },
  {
   "cell_type": "code",
   "execution_count": 81,
   "metadata": {},
   "outputs": [],
   "source": [
    "def count_octal_numbers(input_text):\n",
    "    text = re.sub(r'<script>.*?</script>', '', input_text)\n",
    "    regex_pattern = r'\\b0[oO]?[0-7]+\\b'\n",
    "\n",
    "    octal_matches = re.findall(regex_pattern, text)\n",
    "\n",
    "    number_of_octals = len(octal_matches)\n",
    "\n",
    "    return number_of_octals"
   ]
  },
  {
   "cell_type": "code",
   "execution_count": 82,
   "metadata": {},
   "outputs": [],
   "source": [
    "def count_hex_numbers(input_text):\n",
    "    text = re.sub(r'<script>.*?</script>', '', input_text)\n",
    "    regex_pattern = r'\\b0[xX][0-9a-fA-F]+\\b'\n",
    "\n",
    "    hex_matches = re.findall(regex_pattern, text)\n",
    "\n",
    "    number_of_hex_numbers = len(hex_matches)\n",
    "\n",
    "    return number_of_hex_numbers"
   ]
  },
  {
   "cell_type": "code",
   "execution_count": 83,
   "metadata": {},
   "outputs": [],
   "source": [
    "def count_unicode_symbols(input_text):\n",
    "    text = re.sub(r'<script>.*?</script>', '', input_text)\n",
    "    regex_pattern = r'\\\\u[0-9a-fA-F]{4}'\n",
    "\n",
    "    unicode_matches = re.findall(regex_pattern, text)\n",
    "\n",
    "    number_of_unicode_symbols = len(unicode_matches)\n",
    "\n",
    "    return number_of_unicode_symbols\n"
   ]
  },
  {
   "cell_type": "code",
   "execution_count": 84,
   "metadata": {},
   "outputs": [],
   "source": [
    "df['NoOfChars']=df['script'].apply(lambda x: count_characters(x))\n",
    "df['NoOfLines']=df['script'].apply(lambda x: count_lines(x))\n",
    "df['AvgCharPerLine']=df['script'].apply(lambda x: avg_chars_per_line(x))\n",
    "df['TotNoOfWords']=df['script'].apply(lambda x: count_words(x))\n",
    "df['PercOfWhitespace']=df['script'].apply(lambda x: perc_count_white_spaces(count_words(x),x))\n",
    "df['NoOfComm']=df['script'].apply(lambda x: count_commas(x))\n",
    "df['AvgCommPerLine']=df['script'].apply(lambda x: avg_commas_per_line(count_commas(x),count_lines(x)))\n",
    "df['NoOfMethods']=df['script'].apply(lambda x: count_methods(x))\n",
    "df['NoOfOcNum']=df['script'].apply(lambda x: count_octal_numbers(x))\n",
    "df['NoOfUnicodeSym']=df['script'].apply(lambda x: count_unicode_symbols(x))\n",
    "df['NoOfHexNum']=df['script'].apply(lambda x: count_hex_numbers(x))"
   ]
  },
  {
   "cell_type": "code",
   "execution_count": 85,
   "metadata": {},
   "outputs": [
    {
     "data": {
      "text/html": [
       "<div>\n",
       "<style scoped>\n",
       "    .dataframe tbody tr th:only-of-type {\n",
       "        vertical-align: middle;\n",
       "    }\n",
       "\n",
       "    .dataframe tbody tr th {\n",
       "        vertical-align: top;\n",
       "    }\n",
       "\n",
       "    .dataframe thead th {\n",
       "        text-align: right;\n",
       "    }\n",
       "</style>\n",
       "<table border=\"1\" class=\"dataframe\">\n",
       "  <thead>\n",
       "    <tr style=\"text-align: right;\">\n",
       "      <th></th>\n",
       "      <th>script</th>\n",
       "      <th>label</th>\n",
       "      <th>url</th>\n",
       "      <th>NoOfChars</th>\n",
       "      <th>NoOfLines</th>\n",
       "      <th>AvgCharPerLine</th>\n",
       "      <th>TotNoOfWords</th>\n",
       "      <th>PercOfWhitespace</th>\n",
       "      <th>NoOfComm</th>\n",
       "      <th>AvgCommPerLine</th>\n",
       "      <th>NoOfMethods</th>\n",
       "      <th>NoOfOcNum</th>\n",
       "      <th>NoOfUnicodeSym</th>\n",
       "      <th>NoOfHexNum</th>\n",
       "    </tr>\n",
       "  </thead>\n",
       "  <tbody>\n",
       "    <tr>\n",
       "      <th>0</th>\n",
       "      <td>&lt;script defer=\"\" src=\"https://assets.targetimg...</td>\n",
       "      <td>1</td>\n",
       "      <td>https://www.Target.com</td>\n",
       "      <td>150</td>\n",
       "      <td>1</td>\n",
       "      <td>150.0</td>\n",
       "      <td>3</td>\n",
       "      <td>66.666667</td>\n",
       "      <td>0</td>\n",
       "      <td>0.0</td>\n",
       "      <td>0</td>\n",
       "      <td>0</td>\n",
       "      <td>0</td>\n",
       "      <td>0</td>\n",
       "    </tr>\n",
       "    <tr>\n",
       "      <th>1</th>\n",
       "      <td>&lt;script src=\"https://public.message-business.c...</td>\n",
       "      <td>0</td>\n",
       "      <td>http://www.gallimard.fr</td>\n",
       "      <td>110</td>\n",
       "      <td>1</td>\n",
       "      <td>110.0</td>\n",
       "      <td>2</td>\n",
       "      <td>50.000000</td>\n",
       "      <td>0</td>\n",
       "      <td>0.0</td>\n",
       "      <td>0</td>\n",
       "      <td>0</td>\n",
       "      <td>0</td>\n",
       "      <td>0</td>\n",
       "    </tr>\n",
       "    <tr>\n",
       "      <th>2</th>\n",
       "      <td>&lt;script nonce=\"lorVRTHIcf6Zcpwz8VqbXg\"&gt;(functi...</td>\n",
       "      <td>1</td>\n",
       "      <td>https://www.Google.pt</td>\n",
       "      <td>260</td>\n",
       "      <td>2</td>\n",
       "      <td>129.5</td>\n",
       "      <td>13</td>\n",
       "      <td>92.307692</td>\n",
       "      <td>0</td>\n",
       "      <td>0.0</td>\n",
       "      <td>1</td>\n",
       "      <td>0</td>\n",
       "      <td>0</td>\n",
       "      <td>0</td>\n",
       "    </tr>\n",
       "    <tr>\n",
       "      <th>3</th>\n",
       "      <td>&lt;script async=\"\" src=\"//micro.rubiconproject.c...</td>\n",
       "      <td>1</td>\n",
       "      <td>https://www.Detik.com</td>\n",
       "      <td>83</td>\n",
       "      <td>1</td>\n",
       "      <td>83.0</td>\n",
       "      <td>3</td>\n",
       "      <td>66.666667</td>\n",
       "      <td>0</td>\n",
       "      <td>0.0</td>\n",
       "      <td>0</td>\n",
       "      <td>0</td>\n",
       "      <td>0</td>\n",
       "      <td>0</td>\n",
       "    </tr>\n",
       "    <tr>\n",
       "      <th>4</th>\n",
       "      <td>&lt;script defer=\"\" src=\"/_next/static/chunks/504...</td>\n",
       "      <td>1</td>\n",
       "      <td>https://www.Xe.com</td>\n",
       "      <td>77</td>\n",
       "      <td>1</td>\n",
       "      <td>77.0</td>\n",
       "      <td>3</td>\n",
       "      <td>66.666667</td>\n",
       "      <td>0</td>\n",
       "      <td>0.0</td>\n",
       "      <td>0</td>\n",
       "      <td>0</td>\n",
       "      <td>0</td>\n",
       "      <td>0</td>\n",
       "    </tr>\n",
       "  </tbody>\n",
       "</table>\n",
       "</div>"
      ],
      "text/plain": [
       "                                              script  label  \\\n",
       "0  <script defer=\"\" src=\"https://assets.targetimg...      1   \n",
       "1  <script src=\"https://public.message-business.c...      0   \n",
       "2  <script nonce=\"lorVRTHIcf6Zcpwz8VqbXg\">(functi...      1   \n",
       "3  <script async=\"\" src=\"//micro.rubiconproject.c...      1   \n",
       "4  <script defer=\"\" src=\"/_next/static/chunks/504...      1   \n",
       "\n",
       "                       url  NoOfChars  NoOfLines  AvgCharPerLine  \\\n",
       "0   https://www.Target.com        150          1           150.0   \n",
       "1  http://www.gallimard.fr        110          1           110.0   \n",
       "2    https://www.Google.pt        260          2           129.5   \n",
       "3    https://www.Detik.com         83          1            83.0   \n",
       "4       https://www.Xe.com         77          1            77.0   \n",
       "\n",
       "   TotNoOfWords  PercOfWhitespace  NoOfComm  AvgCommPerLine  NoOfMethods  \\\n",
       "0             3         66.666667         0             0.0            0   \n",
       "1             2         50.000000         0             0.0            0   \n",
       "2            13         92.307692         0             0.0            1   \n",
       "3             3         66.666667         0             0.0            0   \n",
       "4             3         66.666667         0             0.0            0   \n",
       "\n",
       "   NoOfOcNum  NoOfUnicodeSym  NoOfHexNum  \n",
       "0          0               0           0  \n",
       "1          0               0           0  \n",
       "2          0               0           0  \n",
       "3          0               0           0  \n",
       "4          0               0           0  "
      ]
     },
     "execution_count": 85,
     "metadata": {},
     "output_type": "execute_result"
    }
   ],
   "source": [
    "df.head()"
   ]
  },
  {
   "cell_type": "code",
   "execution_count": 86,
   "metadata": {},
   "outputs": [],
   "source": [
    "df.to_csv('Output.csv', index=False)"
   ]
  },
  {
   "cell_type": "code",
   "execution_count": 87,
   "metadata": {},
   "outputs": [],
   "source": [
    "from urllib.parse import urlparse\n",
    "\n",
    "def get_url_length(url):\n",
    "    return len(url)\n",
    "\n",
    "def count_domain_occurrences(urls):\n",
    "    domain_counts = {}\n",
    "    for url in urls:\n",
    "        domain = urlparse(url).netloc\n",
    "        domain_counts[domain] = domain_counts.get(domain, 0) + 1\n",
    "    return domain_counts\n",
    "\n",
    "def count_characters(url):\n",
    "    return len(url)\n",
    "\n",
    "def count_unicode_occurrences(url):\n",
    "    unicode_count = sum(1 for char in url if ord(char) > 127)\n",
    "    return unicode_count\n",
    "\n",
    "def count_hex_numbers(url):\n",
    "    hex_count = sum(1 for char in url if char.isdigit() or char.lower() in 'abcdef')\n",
    "    return hex_count"
   ]
  },
  {
   "cell_type": "code",
   "execution_count": 88,
   "metadata": {},
   "outputs": [
    {
     "data": {
      "text/html": [
       "<div>\n",
       "<style scoped>\n",
       "    .dataframe tbody tr th:only-of-type {\n",
       "        vertical-align: middle;\n",
       "    }\n",
       "\n",
       "    .dataframe tbody tr th {\n",
       "        vertical-align: top;\n",
       "    }\n",
       "\n",
       "    .dataframe thead th {\n",
       "        text-align: right;\n",
       "    }\n",
       "</style>\n",
       "<table border=\"1\" class=\"dataframe\">\n",
       "  <thead>\n",
       "    <tr style=\"text-align: right;\">\n",
       "      <th></th>\n",
       "      <th>URLS</th>\n",
       "      <th>label</th>\n",
       "    </tr>\n",
       "  </thead>\n",
       "  <tbody>\n",
       "    <tr>\n",
       "      <th>0</th>\n",
       "      <td>http://webcenters.netscape.compuserve.com/weat...</td>\n",
       "      <td>0</td>\n",
       "    </tr>\n",
       "    <tr>\n",
       "      <th>1</th>\n",
       "      <td>http://www.titivillus.it/periodico.php?id=15%3...</td>\n",
       "      <td>0</td>\n",
       "    </tr>\n",
       "    <tr>\n",
       "      <th>2</th>\n",
       "      <td>http://english.sinopec.com/investor_center/his...</td>\n",
       "      <td>0</td>\n",
       "    </tr>\n",
       "    <tr>\n",
       "      <th>3</th>\n",
       "      <td>http://www.fbi.com/?not_found=%3Ch1%3EXSS%20BY...</td>\n",
       "      <td>0</td>\n",
       "    </tr>\n",
       "    <tr>\n",
       "      <th>4</th>\n",
       "      <td>http://pti.regione.sicilia.it/portal/page/port...</td>\n",
       "      <td>0</td>\n",
       "    </tr>\n",
       "  </tbody>\n",
       "</table>\n",
       "</div>"
      ],
      "text/plain": [
       "                                                URLS  label\n",
       "0  http://webcenters.netscape.compuserve.com/weat...      0\n",
       "1  http://www.titivillus.it/periodico.php?id=15%3...      0\n",
       "2  http://english.sinopec.com/investor_center/his...      0\n",
       "3  http://www.fbi.com/?not_found=%3Ch1%3EXSS%20BY...      0\n",
       "4  http://pti.regione.sicilia.it/portal/page/port...      0"
      ]
     },
     "execution_count": 88,
     "metadata": {},
     "output_type": "execute_result"
    }
   ],
   "source": [
    "df_url = pd.read_csv('XSS_URLS.csv')\n",
    "df_url.head()"
   ]
  },
  {
   "cell_type": "code",
   "execution_count": 89,
   "metadata": {},
   "outputs": [],
   "source": [
    "df_url['urlLen']=df_url['URLS'].apply(lambda x: get_url_length(x))\n",
    "df_url['domOcc']=df_url['URLS'].apply(lambda x: count_domain_occurrences(x))\n",
    "df_url['NoOfChar']=df_url['URLS'].apply(lambda x: count_characters(x))\n",
    "df_url['unicodeOcc']=df_url['URLS'].apply(lambda x: count_unicode_occurrences(x))\n",
    "df_url['hexOcc']=df_url['URLS'].apply(lambda x: count_hex_numbers(x))"
   ]
  },
  {
   "cell_type": "code",
   "execution_count": 90,
   "metadata": {},
   "outputs": [
    {
     "data": {
      "text/html": [
       "<div>\n",
       "<style scoped>\n",
       "    .dataframe tbody tr th:only-of-type {\n",
       "        vertical-align: middle;\n",
       "    }\n",
       "\n",
       "    .dataframe tbody tr th {\n",
       "        vertical-align: top;\n",
       "    }\n",
       "\n",
       "    .dataframe thead th {\n",
       "        text-align: right;\n",
       "    }\n",
       "</style>\n",
       "<table border=\"1\" class=\"dataframe\">\n",
       "  <thead>\n",
       "    <tr style=\"text-align: right;\">\n",
       "      <th></th>\n",
       "      <th>URLS</th>\n",
       "      <th>label</th>\n",
       "      <th>urlLen</th>\n",
       "      <th>domOcc</th>\n",
       "      <th>NoOfChar</th>\n",
       "      <th>unicodeOcc</th>\n",
       "      <th>hexOcc</th>\n",
       "    </tr>\n",
       "  </thead>\n",
       "  <tbody>\n",
       "    <tr>\n",
       "      <th>0</th>\n",
       "      <td>http://webcenters.netscape.compuserve.com/weat...</td>\n",
       "      <td>0</td>\n",
       "      <td>88</td>\n",
       "      <td>{'': 88}</td>\n",
       "      <td>88</td>\n",
       "      <td>0</td>\n",
       "      <td>24</td>\n",
       "    </tr>\n",
       "    <tr>\n",
       "      <th>1</th>\n",
       "      <td>http://www.titivillus.it/periodico.php?id=15%3...</td>\n",
       "      <td>0</td>\n",
       "      <td>95</td>\n",
       "      <td>{'': 95}</td>\n",
       "      <td>95</td>\n",
       "      <td>0</td>\n",
       "      <td>27</td>\n",
       "    </tr>\n",
       "    <tr>\n",
       "      <th>2</th>\n",
       "      <td>http://english.sinopec.com/investor_center/his...</td>\n",
       "      <td>0</td>\n",
       "      <td>277</td>\n",
       "      <td>{'': 277}</td>\n",
       "      <td>277</td>\n",
       "      <td>0</td>\n",
       "      <td>109</td>\n",
       "    </tr>\n",
       "    <tr>\n",
       "      <th>3</th>\n",
       "      <td>http://www.fbi.com/?not_found=%3Ch1%3EXSS%20BY...</td>\n",
       "      <td>0</td>\n",
       "      <td>118</td>\n",
       "      <td>{'': 118}</td>\n",
       "      <td>118</td>\n",
       "      <td>0</td>\n",
       "      <td>44</td>\n",
       "    </tr>\n",
       "    <tr>\n",
       "      <th>4</th>\n",
       "      <td>http://pti.regione.sicilia.it/portal/page/port...</td>\n",
       "      <td>0</td>\n",
       "      <td>385</td>\n",
       "      <td>{'': 385}</td>\n",
       "      <td>385</td>\n",
       "      <td>0</td>\n",
       "      <td>112</td>\n",
       "    </tr>\n",
       "  </tbody>\n",
       "</table>\n",
       "</div>"
      ],
      "text/plain": [
       "                                                URLS  label  urlLen  \\\n",
       "0  http://webcenters.netscape.compuserve.com/weat...      0      88   \n",
       "1  http://www.titivillus.it/periodico.php?id=15%3...      0      95   \n",
       "2  http://english.sinopec.com/investor_center/his...      0     277   \n",
       "3  http://www.fbi.com/?not_found=%3Ch1%3EXSS%20BY...      0     118   \n",
       "4  http://pti.regione.sicilia.it/portal/page/port...      0     385   \n",
       "\n",
       "      domOcc  NoOfChar  unicodeOcc  hexOcc  \n",
       "0   {'': 88}        88           0      24  \n",
       "1   {'': 95}        95           0      27  \n",
       "2  {'': 277}       277           0     109  \n",
       "3  {'': 118}       118           0      44  \n",
       "4  {'': 385}       385           0     112  "
      ]
     },
     "execution_count": 90,
     "metadata": {},
     "output_type": "execute_result"
    }
   ],
   "source": [
    "df_url.head()"
   ]
  }
 ],
 "metadata": {
  "kernelspec": {
   "display_name": "venv",
   "language": "python",
   "name": "python3"
  },
  "language_info": {
   "codemirror_mode": {
    "name": "ipython",
    "version": 3
   },
   "file_extension": ".py",
   "mimetype": "text/x-python",
   "name": "python",
   "nbconvert_exporter": "python",
   "pygments_lexer": "ipython3",
   "version": "3.11.5"
  }
 },
 "nbformat": 4,
 "nbformat_minor": 2
}
